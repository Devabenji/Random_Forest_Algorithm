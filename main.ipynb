{
 "cells": [
  {
   "cell_type": "code",
   "id": "initial_id",
   "metadata": {
    "collapsed": true
   },
   "source": [
    "import pandas as pd\n",
    "stock_data = pd.read_csv('NFLX_dataset.csv')\n",
    "stock_data.head()"
   ],
   "outputs": [],
   "execution_count": null
  },
  {
   "metadata": {},
   "cell_type": "code",
   "source": "stock_data.shape",
   "id": "82273d50da61b37f",
   "outputs": [],
   "execution_count": null
  },
  {
   "metadata": {},
   "cell_type": "code",
   "source": "stock_data.info()",
   "id": "f20bb699b5ba0299",
   "outputs": [],
   "execution_count": null
  },
  {
   "metadata": {},
   "cell_type": "code",
   "source": "stock_data.isnull().sum()",
   "id": "c5e17a73c1451459",
   "outputs": [],
   "execution_count": null
  },
  {
   "metadata": {},
   "cell_type": "code",
   "source": "stock_data.describe()",
   "id": "bb0d3720dd2f0ecd",
   "outputs": [],
   "execution_count": null
  },
  {
   "metadata": {},
   "cell_type": "code",
   "source": "stock_data.plot(x='Date', y='Close')",
   "id": "86fee34125d07e82",
   "outputs": [],
   "execution_count": null
  },
  {
   "metadata": {},
   "cell_type": "code",
   "source": [
    "input_data = stock_data.drop(columns = ['Date','Close','Adj Close'])\n",
    "output_data = stock_data['Close']\n"
   ],
   "id": "bdad38ef4682657a",
   "outputs": [],
   "execution_count": null
  },
  {
   "metadata": {},
   "cell_type": "code",
   "source": [
    "print(input_data.shape)\n",
    "print(output_data.shape)\n"
   ],
   "id": "877ecd1a0788f499",
   "outputs": [],
   "execution_count": null
  },
  {
   "metadata": {},
   "cell_type": "code",
   "source": [
    "from sklearn.model_selection import train_test_split\n",
    "input_data_train, input_data_test, output_data_train, output_data_test = train_test_split(input_data, output_data)"
   ],
   "id": "c914002453667ee",
   "outputs": [],
   "execution_count": null
  },
  {
   "metadata": {},
   "cell_type": "code",
   "source": [
    "from sklearn.ensemble import RandomForestRegressor\n",
    "model = RandomForestRegressor()"
   ],
   "id": "c50832f5b2e6e920",
   "outputs": [],
   "execution_count": null
  },
  {
   "metadata": {},
   "cell_type": "code",
   "source": "model.fit(input_data_train, output_data_train)",
   "id": "30e97d826c5fd80a",
   "outputs": [],
   "execution_count": null
  },
  {
   "metadata": {},
   "cell_type": "code",
   "source": "stock_predict = model.predict(input_data_test)",
   "id": "65684c9725a8c363",
   "outputs": [],
   "execution_count": null
  },
  {
   "metadata": {},
   "cell_type": "code",
   "source": [
    "from sklearn import metrics\n",
    "from sklearn.metrics import mean_absolute_error, mean_squared_error, r2_score\n",
    "print(\"Mean absolute error: \", metrics.mean_absolute_error(output_data_test, stock_predict))\n",
    "print(\"Mean squared error: \", mean_squared_error(output_data_test, stock_predict))\n",
    "print(\"R2 score: \", r2_score(output_data_test, stock_predict))\n"
   ],
   "id": "792514cbaa121038",
   "outputs": [],
   "execution_count": null
  },
  {
   "metadata": {
    "ExecuteTime": {
     "end_time": "2025-04-05T21:51:55.081691Z",
     "start_time": "2025-04-05T21:51:55.068201Z"
    }
   },
   "cell_type": "code",
   "source": [
    "print(input_data_test.tail(3))\n",
    "input_random = input_data_test.tail(3)\n",
    "input_random.head()"
   ],
   "id": "1b8ca5fb9b0111a7",
   "outputs": [
    {
     "name": "stdout",
     "output_type": "stream",
     "text": [
      "           Open        High         Low   Volume\n",
      "538  344.000000  363.839996  341.730011  7229600\n",
      "784  516.400024  517.900024  503.850006  4094500\n",
      "373  325.160004  331.769989  318.529999  6259500\n"
     ]
    },
    {
     "data": {
      "text/plain": [
       "           Open        High         Low   Volume\n",
       "538  344.000000  363.839996  341.730011  7229600\n",
       "784  516.400024  517.900024  503.850006  4094500\n",
       "373  325.160004  331.769989  318.529999  6259500"
      ],
      "text/html": [
       "<div>\n",
       "<style scoped>\n",
       "    .dataframe tbody tr th:only-of-type {\n",
       "        vertical-align: middle;\n",
       "    }\n",
       "\n",
       "    .dataframe tbody tr th {\n",
       "        vertical-align: top;\n",
       "    }\n",
       "\n",
       "    .dataframe thead th {\n",
       "        text-align: right;\n",
       "    }\n",
       "</style>\n",
       "<table border=\"1\" class=\"dataframe\">\n",
       "  <thead>\n",
       "    <tr style=\"text-align: right;\">\n",
       "      <th></th>\n",
       "      <th>Open</th>\n",
       "      <th>High</th>\n",
       "      <th>Low</th>\n",
       "      <th>Volume</th>\n",
       "    </tr>\n",
       "  </thead>\n",
       "  <tbody>\n",
       "    <tr>\n",
       "      <th>538</th>\n",
       "      <td>344.000000</td>\n",
       "      <td>363.839996</td>\n",
       "      <td>341.730011</td>\n",
       "      <td>7229600</td>\n",
       "    </tr>\n",
       "    <tr>\n",
       "      <th>784</th>\n",
       "      <td>516.400024</td>\n",
       "      <td>517.900024</td>\n",
       "      <td>503.850006</td>\n",
       "      <td>4094500</td>\n",
       "    </tr>\n",
       "    <tr>\n",
       "      <th>373</th>\n",
       "      <td>325.160004</td>\n",
       "      <td>331.769989</td>\n",
       "      <td>318.529999</td>\n",
       "      <td>6259500</td>\n",
       "    </tr>\n",
       "  </tbody>\n",
       "</table>\n",
       "</div>"
      ]
     },
     "execution_count": 23,
     "metadata": {},
     "output_type": "execute_result"
    }
   ],
   "execution_count": 23
  },
  {
   "metadata": {
    "ExecuteTime": {
     "end_time": "2025-04-05T21:55:27.387952Z",
     "start_time": "2025-04-05T21:55:27.383351Z"
    }
   },
   "cell_type": "code",
   "source": "print(output_data_test.tail(3))",
   "id": "f761b38c7c1a0316",
   "outputs": [
    {
     "name": "stdout",
     "output_type": "stream",
     "text": [
      "538    362.989990\n",
      "784    504.790009\n",
      "373    322.989990\n",
      "Name: Close, dtype: float64\n"
     ]
    }
   ],
   "execution_count": 26
  },
  {
   "metadata": {
    "ExecuteTime": {
     "end_time": "2025-04-05T21:55:30.830936Z",
     "start_time": "2025-04-05T21:55:30.813775Z"
    }
   },
   "cell_type": "code",
   "source": [
    "stock_predict_test = model.predict(input_random)\n",
    "print(stock_predict_test)"
   ],
   "id": "e13179d3f5673183",
   "outputs": [
    {
     "name": "stdout",
     "output_type": "stream",
     "text": [
      "[355.88430079 509.14839655 323.03100474]\n"
     ]
    }
   ],
   "execution_count": 27
  },
  {
   "metadata": {},
   "cell_type": "code",
   "outputs": [],
   "execution_count": null,
   "source": "",
   "id": "bbeb890a9df897fa"
  }
 ],
 "metadata": {
  "kernelspec": {
   "display_name": "Python 3",
   "language": "python",
   "name": "python3"
  },
  "language_info": {
   "codemirror_mode": {
    "name": "ipython",
    "version": 2
   },
   "file_extension": ".py",
   "mimetype": "text/x-python",
   "name": "python",
   "nbconvert_exporter": "python",
   "pygments_lexer": "ipython2",
   "version": "2.7.6"
  }
 },
 "nbformat": 4,
 "nbformat_minor": 5
}
